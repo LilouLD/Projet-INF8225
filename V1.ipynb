{
 "cells": [
  {
   "cell_type": "code",
   "id": "initial_id",
   "metadata": {
    "collapsed": true,
    "ExecuteTime": {
     "end_time": "2025-04-17T23:31:55.461393Z",
     "start_time": "2025-04-17T23:31:46.158818Z"
    }
   },
   "source": [
    "# Import des bibliothèques nécessaires\n",
    "from datasets import load_dataset\n",
    "from datasets import concatenate_datasets\n",
    "from transformers import AutoModel\n",
    "import torch\n",
    "import os\n",
    "from huggingface_hub import login\n",
    "import pandas as pd\n",
    "import numpy as np\n",
    "\n",
    "# Authentification à Hugging Face (nécessaire pour accéder aux datasets)\n",
    "# Vous devrez avoir généré un token sur https://huggingface.co/settings/tokens\n",
    "# et exécuté `huggingface-cli login` en ligne de commande avant de lancer ce script\n",
    "# ou utiliser la méthode ci-dessous avec votre token\n",
    "\n",
    "# Décommentez et ajoutez votre token si vous n'avez pas fait login via CLI\n",
    "# login(token=\"votre_token_huggingface\")\n",
    "\n",
    "def load_and_prepare_datasets():\n",
    "    \"\"\"\n",
    "    Charge les datasets ALOHA (transfer et insertion), ajoute un encodage de tâche,\n",
    "    et concatène les données en un vecteur d'entrée de 101 dimensions.\n",
    "    \"\"\"\n",
    "    print(\"Chargement des datasets...\")\n",
    "    ds_transfer = load_dataset(\"lerobot/aloha_sim_transfer_cube_human\")\n",
    "    ds_insertion = load_dataset(\"lerobot/aloha_sim_insertion_human\")\n",
    "\n",
    "    def process_example(example, task_tag):\n",
    "        \"\"\"\n",
    "        Prépare un vecteur d'entrée de 101 dimensions pour chaque exemple.\n",
    "        \"\"\"\n",
    "        obs = np.array(example[\"observation.state\"], dtype=np.float32)\n",
    "        act = np.array(example[\"action\"], dtype=np.float32)\n",
    "        \n",
    "        # One-hot encoding simple pour 2 classes : [1, 0] pour transfer, [0, 1] pour insertion\n",
    "        task_one_hot = np.array([1, 0], dtype=np.float32) if task_tag == \"transfer\" else np.array([0, 1], dtype=np.float32)\n",
    "        \n",
    "        # Concaténation des features\n",
    "        combined = np.concatenate([obs, act, task_one_hot])\n",
    "        \n",
    "        # Padding si nécessaire (ici on pad jusqu'à 101 dim)\n",
    "        padding_length = 101 - combined.shape[0]\n",
    "        if padding_length > 0:\n",
    "            combined = np.concatenate([combined, np.zeros(padding_length, dtype=np.float32)])\n",
    "        \n",
    "        # Ajoute un champ \"input_vector\" pour l'entraînement\n",
    "        example[\"input_vector\"] = combined\n",
    "        return example\n",
    "\n",
    "    def preprocess_dataset(dataset, task_tag):\n",
    "        return dataset.map(lambda ex: process_example(ex, task_tag))\n",
    "\n",
    "    print(\"Prétraitement des datasets...\")\n",
    "    processed_transfer = preprocess_dataset(ds_transfer[\"train\"], \"transfer\")\n",
    "    processed_insertion = preprocess_dataset(ds_insertion[\"train\"], \"insertion\")\n",
    "\n",
    "    print(\"Concaténation des datasets...\")\n",
    "    combined_dataset = concatenate_datasets([processed_transfer, processed_insertion])\n",
    "\n",
    "    print(f\"Nombre total d'échantillons : {len(combined_dataset)}\")\n",
    "    print(\"Exemple d'input_vector (shape) :\", torch.tensor(combined_dataset[0][\"input_vector\"]).shape)\n",
    "    \n",
    "    return combined_dataset\n",
    "\n",
    "# Exécution de la fonction de préparation des datasets\n",
    "if __name__ == \"__main__\":\n",
    "    combined_dataset = load_and_prepare_datasets()\n",
    "    \n",
    "    # Exemple d'accès aux données du dataset combiné\n",
    "    if \"train\" in combined_dataset:\n",
    "        train_split = combined_dataset[\"train\"]\n",
    "        \n",
    "        # Comptage des échantillons par type de tâche\n",
    "        task_counts = train_split.to_pandas()[\"task_tag\"].value_counts()\n",
    "        print(\"\\nRépartition des tâches dans le split 'train':\")\n",
    "        print(task_counts)\n",
    "        \n",
    "        # Échantillon aléatoire pour vérification\n",
    "        print(\"\\nExemple d'échantillon du dataset combiné:\")\n",
    "        random_sample = train_split[np.random.randint(0, len(train_split))]\n",
    "        print(f\"Tâche: {random_sample['task_tag']}\")\n",
    "        for key in random_sample:\n",
    "            if key != \"task_tag\" and isinstance(random_sample[key], (int, float, str, bool)):\n",
    "                print(f\"{key}: {random_sample[key]}\")"
   ],
   "outputs": [
    {
     "name": "stdout",
     "output_type": "stream",
     "text": [
      "Chargement des datasets...\n"
     ]
    },
    {
     "data": {
      "text/plain": [
       "Resolving data files:   0%|          | 0/50 [00:00<?, ?it/s]"
      ],
      "application/vnd.jupyter.widget-view+json": {
       "version_major": 2,
       "version_minor": 0,
       "model_id": "1a2a5707fdf3413fa24fc54b88eb5f64"
      }
     },
     "metadata": {},
     "output_type": "display_data"
    },
    {
     "data": {
      "text/plain": [
       "Resolving data files:   0%|          | 0/50 [00:00<?, ?it/s]"
      ],
      "application/vnd.jupyter.widget-view+json": {
       "version_major": 2,
       "version_minor": 0,
       "model_id": "aec63e1175de4f3b8400d00288a03e8e"
      }
     },
     "metadata": {},
     "output_type": "display_data"
    },
    {
     "data": {
      "text/plain": [
       "Resolving data files:   0%|          | 0/50 [00:00<?, ?it/s]"
      ],
      "application/vnd.jupyter.widget-view+json": {
       "version_major": 2,
       "version_minor": 0,
       "model_id": "f1d7c090795942aca5d5fa009b427587"
      }
     },
     "metadata": {},
     "output_type": "display_data"
    },
    {
     "data": {
      "text/plain": [
       "Resolving data files:   0%|          | 0/50 [00:00<?, ?it/s]"
      ],
      "application/vnd.jupyter.widget-view+json": {
       "version_major": 2,
       "version_minor": 0,
       "model_id": "5926831968484026adbaf3b5fe2abd92"
      }
     },
     "metadata": {},
     "output_type": "display_data"
    },
    {
     "name": "stdout",
     "output_type": "stream",
     "text": [
      "Prétraitement des datasets...\n"
     ]
    },
    {
     "data": {
      "text/plain": [
       "Map:   0%|          | 0/20000 [00:00<?, ? examples/s]"
      ],
      "application/vnd.jupyter.widget-view+json": {
       "version_major": 2,
       "version_minor": 0,
       "model_id": "ae978902966b4f398d0106936dc5bef3"
      }
     },
     "metadata": {},
     "output_type": "display_data"
    },
    {
     "data": {
      "text/plain": [
       "Map:   0%|          | 0/25000 [00:00<?, ? examples/s]"
      ],
      "application/vnd.jupyter.widget-view+json": {
       "version_major": 2,
       "version_minor": 0,
       "model_id": "ea4b03fcc433452386c0a41285c4b76f"
      }
     },
     "metadata": {},
     "output_type": "display_data"
    },
    {
     "name": "stdout",
     "output_type": "stream",
     "text": [
      "Concaténation des datasets...\n",
      "Nombre total d'échantillons : 45000\n",
      "Exemple d'input_vector (shape) : torch.Size([101])\n"
     ]
    }
   ],
   "execution_count": 55
  },
  {
   "metadata": {
    "ExecuteTime": {
     "end_time": "2025-04-18T16:17:14.589491Z",
     "start_time": "2025-04-18T16:17:14.583884Z"
    }
   },
   "cell_type": "code",
   "source": [
    "#New dataset creation function\n",
    "from datasets import load_dataset, concatenate_datasets, DatasetDict\n",
    "import numpy as np\n",
    "import torch\n",
    "\n",
    "def load_and_prepare_datasets():\n",
    "    \"\"\"\n",
    "    Charge les datasets ALOHA (transfer et insertion), ajoute un encodage de tâche,\n",
    "    et concatène les données en un vecteur d'entrée de 101 dimensions.\n",
    "    \"\"\"\n",
    "    print(\"Chargement des datasets...\")\n",
    "    ds_transfer = load_dataset(\"lerobot/aloha_sim_transfer_cube_human\")\n",
    "    ds_insertion = load_dataset(\"lerobot/aloha_sim_insertion_human\")\n",
    "\n",
    "    def process_example(example, task_tag):\n",
    "        \"\"\"\n",
    "        Prépare un vecteur d'entrée de 101 dimensions pour chaque exemple.\n",
    "        \"\"\"\n",
    "        obs = np.array(example[\"observation.state\"], dtype=np.float32)\n",
    "        act = np.array(example[\"action\"], dtype=np.float32)\n",
    "        \n",
    "        # One-hot encoding simple pour 2 classes : [1, 0] pour transfer, [0, 1] pour insertion\n",
    "        task_one_hot = np.array([1, 0], dtype=np.float32) if task_tag == \"transfer\" else np.array([0, 1], dtype=np.float32)\n",
    "        \n",
    "        # Concaténation des features\n",
    "        combined = np.concatenate([obs, act, task_one_hot])\n",
    "        \n",
    "        # Padding si nécessaire (ici on pad jusqu'à 101 dim)\n",
    "        padding_length = 101 - combined.shape[0]\n",
    "        if padding_length > 0:\n",
    "            combined = np.concatenate([combined, np.zeros(padding_length, dtype=np.float32)])\n",
    "        \n",
    "        # Ajoute un champ \"input_vector\" pour l'entraînement\n",
    "        example[\"input_vector\"] = combined\n",
    "        return example\n",
    "\n",
    "    def preprocess_dataset(dataset, task_tag):\n",
    "        return dataset.map(lambda ex: process_example(ex, task_tag))\n",
    "\n",
    "    print(\"Prétraitement des datasets...\")\n",
    "    processed_transfer = preprocess_dataset(ds_transfer[\"train\"], \"transfer\")\n",
    "    processed_insertion = preprocess_dataset(ds_insertion[\"train\"], \"insertion\")\n",
    "\n",
    "    print(\"Concaténation des datasets...\")\n",
    "    combined_dataset = concatenate_datasets([processed_transfer, processed_insertion])\n",
    "\n",
    "    print(f\"Nombre total d'échantillons : {len(combined_dataset)}\")\n",
    "    print(\"Exemple d'input_vector (shape) :\", torch.tensor(combined_dataset[0][\"input_vector\"]).shape)\n",
    "    \n",
    "    return combined_dataset"
   ],
   "id": "ea40603330cb369b",
   "outputs": [],
   "execution_count": 64
  },
  {
   "metadata": {
    "ExecuteTime": {
     "end_time": "2025-04-18T16:17:14.997115Z",
     "start_time": "2025-04-18T16:17:14.994282Z"
    }
   },
   "cell_type": "code",
   "source": [
    "import torch\n",
    "import torch.nn as nn\n",
    "import torch.nn.functional as F\n",
    "\n",
    "class ActModel(nn.Module):\n",
    "    def __init__(\n",
    "        self,\n",
    "        obs_dim=101,       # tu devras adapter ces dimensions selon ton cas\n",
    "        action_dim=7,\n",
    "        hidden_dim=512,\n",
    "        n_layers=4,\n",
    "        dropout=0.1,\n",
    "        use_layer_norm=True,\n",
    "    ):\n",
    "        super().__init__()\n",
    "        self.obs_dim = obs_dim\n",
    "        self.action_dim = action_dim\n",
    "\n",
    "        self.input_layer = nn.Linear(obs_dim, hidden_dim)\n",
    "        self.transformer_layers = nn.ModuleList([\n",
    "            nn.TransformerEncoderLayer(\n",
    "                d_model=hidden_dim,\n",
    "                nhead=8,\n",
    "                dim_feedforward=hidden_dim * 4,\n",
    "                dropout=dropout,\n",
    "                batch_first=True,\n",
    "                norm_first=use_layer_norm,\n",
    "            ) for _ in range(n_layers)\n",
    "        ])\n",
    "        self.output_layer = nn.Linear(hidden_dim, action_dim)\n",
    "\n",
    "    def forward(self, obs):\n",
    "        x = self.input_layer(obs)\n",
    "        for layer in self.transformer_layers:\n",
    "            x = layer(x)\n",
    "        return self.output_layer(x)"
   ],
   "id": "35e5e2707e336625",
   "outputs": [],
   "execution_count": 65
  },
  {
   "metadata": {
    "ExecuteTime": {
     "end_time": "2025-04-18T16:17:15.365822Z",
     "start_time": "2025-04-18T16:17:15.363215Z"
    }
   },
   "cell_type": "code",
   "source": [
    "from safetensors.torch import load_file\n",
    "\n",
    "def load_act_model(model_path):\n",
    "    model = ActModel(\n",
    "        obs_dim=101,       # adapte ces valeurs si nécessaire\n",
    "        action_dim=7,\n",
    "        hidden_dim=512,\n",
    "        n_layers=4,\n",
    "        dropout=0.1,\n",
    "        use_layer_norm=True\n",
    "    )\n",
    "\n",
    "    state_dict = load_file(model_path)\n",
    "    model.load_state_dict(state_dict, strict=False)\n",
    "    return model"
   ],
   "id": "3b0b53225b7846f8",
   "outputs": [],
   "execution_count": 66
  },
  {
   "metadata": {
    "ExecuteTime": {
     "end_time": "2025-04-18T16:17:15.799203Z",
     "start_time": "2025-04-18T16:17:15.681024Z"
    }
   },
   "cell_type": "code",
   "source": [
    "transfer_model = load_act_model(\"/Users/louloute/PycharmProjects/INF8225_projet/Models/transfer/model.safetensors\")\n",
    "insertion_model = load_act_model(\"/Users/louloute/PycharmProjects/INF8225_projet/Models/insertion/model.safetensors\")\n",
    "print(transfer_model)"
   ],
   "id": "895e4ce0d96d2681",
   "outputs": [
    {
     "name": "stdout",
     "output_type": "stream",
     "text": [
      "ActModel(\n",
      "  (input_layer): Linear(in_features=101, out_features=512, bias=True)\n",
      "  (transformer_layers): ModuleList(\n",
      "    (0-3): 4 x TransformerEncoderLayer(\n",
      "      (self_attn): MultiheadAttention(\n",
      "        (out_proj): NonDynamicallyQuantizableLinear(in_features=512, out_features=512, bias=True)\n",
      "      )\n",
      "      (linear1): Linear(in_features=512, out_features=2048, bias=True)\n",
      "      (dropout): Dropout(p=0.1, inplace=False)\n",
      "      (linear2): Linear(in_features=2048, out_features=512, bias=True)\n",
      "      (norm1): LayerNorm((512,), eps=1e-05, elementwise_affine=True)\n",
      "      (norm2): LayerNorm((512,), eps=1e-05, elementwise_affine=True)\n",
      "      (dropout1): Dropout(p=0.1, inplace=False)\n",
      "      (dropout2): Dropout(p=0.1, inplace=False)\n",
      "    )\n",
      "  )\n",
      "  (output_layer): Linear(in_features=512, out_features=7, bias=True)\n",
      ")\n"
     ]
    }
   ],
   "execution_count": 67
  },
  {
   "metadata": {
    "ExecuteTime": {
     "end_time": "2025-04-18T16:56:51.800789Z",
     "start_time": "2025-04-18T16:56:51.789246Z"
    }
   },
   "cell_type": "code",
   "source": [
    "import torch\n",
    "import torch.nn as nn\n",
    "\n",
    "class UnifiedALOHAModel(nn.Module):\n",
    "    def __init__(self, transfer_model, insertion_model, output_dim=14):  # Changé de 768 à 14\n",
    "        super(UnifiedALOHAModel, self).__init__()\n",
    "\n",
    "        self.transfer_model = transfer_model\n",
    "        self.insertion_model = insertion_model\n",
    "\n",
    "        for param in self.transfer_model.parameters():\n",
    "            param.requires_grad = False\n",
    "\n",
    "        for param in self.insertion_model.parameters():\n",
    "            param.requires_grad = False\n",
    "\n",
    "        # On suppose que les modèles retournent un vecteur de même taille que la dernière couche\n",
    "        # Pour éviter les erreurs, on utilise une passe fictive pour obtenir la dimension de sortie réelle\n",
    "        # Passe fictive pour obtenir les dimensions de sortie\n",
    "        dummy_input = torch.randn(1, 101) \n",
    "        with torch.no_grad():\n",
    "            transfer_out = self.transfer_model(dummy_input)\n",
    "            insertion_out = self.insertion_model(dummy_input)\n",
    "        \n",
    "        # Si la sortie est un tuple (ex: (out, hidden)), on garde out\n",
    "        if isinstance(transfer_out, tuple):\n",
    "            transfer_out = transfer_out[0]\n",
    "        if isinstance(insertion_out, tuple):\n",
    "            insertion_out = insertion_out[0]\n",
    "        \n",
    "        transfer_output_size = transfer_out.shape[1]\n",
    "        insertion_output_size = insertion_out.shape[1]\n",
    "        \n",
    "        # Supprimé la répétition du calcul des dimensions\n",
    "        transfer_dim = transfer_output_size\n",
    "        insertion_dim = insertion_output_size\n",
    "\n",
    "        self.task_embedding = nn.Embedding(2, 64)  # Embedding pour la tâche (0 ou 1)\n",
    "\n",
    "        self.fusion_layer = nn.Sequential(\n",
    "            nn.Linear(transfer_dim + insertion_dim + 64, 512),\n",
    "            nn.ReLU(),\n",
    "            nn.Dropout(0.2),\n",
    "            nn.Linear(512, 256),\n",
    "            nn.ReLU(),\n",
    "            nn.Dropout(0.1)\n",
    "        )\n",
    "\n",
    "        self.output_layer = nn.Linear(256, output_dim)  # Sortie maintenant en dimension 14\n",
    "        self.layer_norm = nn.LayerNorm(output_dim)\n",
    "\n",
    "    def forward(self, features, task_id=None):  \n",
    "        \"\"\"\n",
    "        Args:\n",
    "            features: (batch_size, input_dim)\n",
    "            task_id: (batch_size, 1) ou (batch_size,) — type long ou None\n",
    "    \n",
    "        Returns:\n",
    "            (batch_size, output_dim)\n",
    "        \"\"\"\n",
    "        batch_size = features.size(0)\n",
    "        \n",
    "        if task_id is not None:\n",
    "            task_emb = self.task_embedding(task_id.view(-1))  # (batch_size, 64)\n",
    "        else:\n",
    "            # Si task_id n'est pas fourni, on utilise un vecteur nul ou moyen\n",
    "            task_emb = torch.zeros(batch_size, self.task_embedding.embedding_dim, device=features.device)\n",
    "        \n",
    "        with torch.no_grad():\n",
    "            transfer_out = self.transfer_model(features)  # (batch_size, transfer_dim)\n",
    "            insertion_out = self.insertion_model(features)  # (batch_size, insertion_dim)\n",
    "        \n",
    "        if isinstance(transfer_out, tuple):\n",
    "            transfer_out = transfer_out[0]\n",
    "        if isinstance(insertion_out, tuple):\n",
    "            insertion_out = insertion_out[0]\n",
    "        \n",
    "        combined = torch.cat([transfer_out, insertion_out, task_emb], dim=1)  # (batch_size, total_dim)\n",
    "        fused = self.fusion_layer(combined)\n",
    "        output = self.output_layer(fused)\n",
    "        output = self.layer_norm(output)\n",
    "        \n",
    "        return output"
   ],
   "id": "8a6c4093821b54e1",
   "outputs": [],
   "execution_count": 99
  },
  {
   "metadata": {
    "ExecuteTime": {
     "end_time": "2025-04-18T16:56:52.455534Z",
     "start_time": "2025-04-18T16:56:52.450712Z"
    }
   },
   "cell_type": "code",
   "source": [
    "# Import des bibliothèques nécessaires\n",
    "from transformers import AutoModel, AutoConfig, PreTrainedModel\n",
    "import torch\n",
    "import torch.nn as nn\n",
    "from datasets import load_dataset\n",
    "import numpy as np\n",
    "from sklearn.model_selection import train_test_split\n",
    "from torch.utils.data import DataLoader, Dataset\n",
    "from tqdm import tqdm\n",
    "import os\n",
    "import wandb  # Pour le suivi des expériences (optionnel)\n",
    "import matplotlib.pyplot as plt\n",
    "from dataset import ALOHADataset\n",
    "\n",
    "# Fonction pour l'entraînement du modèle unifié\n",
    "def train_unified_model(unified_model, train_dataloader, val_dataloader, \n",
    "                        num_epochs=10, learning_rate=1e-4, device=\"cuda\"):\n",
    "    \"\"\"\n",
    "    Entraîne le modèle unifié.\n",
    "    \n",
    "    Args:\n",
    "        unified_model: Le modèle unifié\n",
    "        train_dataloader: DataLoader pour les données d'entraînement\n",
    "        val_dataloader: DataLoader pour les données de validation\n",
    "        num_epochs: Nombre d'époques d'entraînement\n",
    "        learning_rate: Taux d'apprentissage\n",
    "        device: Appareil sur lequel effectuer l'entraînement ('cuda' ou 'cpu')\n",
    "    \n",
    "    Returns:\n",
    "        Le modèle entraîné et les historiques de perte\n",
    "    \"\"\"\n",
    "    unified_model = unified_model.to(device)\n",
    "\n",
    "    criterion = nn.MSELoss()  # À adapter si classification\n",
    "    optimizer = torch.optim.Adam(unified_model.parameters(), lr=learning_rate)\n",
    "    scheduler = torch.optim.lr_scheduler.ReduceLROnPlateau(\n",
    "        optimizer, mode='min', factor=0.5, patience=2, verbose=True\n",
    "    )\n",
    "\n",
    "    train_losses = []\n",
    "    val_losses = []\n",
    "\n",
    "    for epoch in range(num_epochs):\n",
    "        unified_model.train()\n",
    "        epoch_train_loss = 0.0\n",
    "        train_batches = 0\n",
    "\n",
    "        for batch in tqdm(train_dataloader, desc=f\"Époque {epoch+1}/{num_epochs} (entraînement)\"):\n",
    "            features = batch[\"features\"].float().to(device)\n",
    "            labels = batch[\"labels\"].float().to(device)\n",
    "\n",
    "            optimizer.zero_grad()\n",
    "            outputs = unified_model(features)\n",
    "            loss = criterion(outputs, labels)\n",
    "            loss.backward()\n",
    "\n",
    "            # Optionnel : clip grad pour éviter les explosions de gradient\n",
    "            torch.nn.utils.clip_grad_norm_(unified_model.parameters(), max_norm=1.0)\n",
    "\n",
    "            optimizer.step()\n",
    "            epoch_train_loss += loss.item()\n",
    "            train_batches += 1\n",
    "\n",
    "        epoch_train_loss /= train_batches\n",
    "        train_losses.append(epoch_train_loss)\n",
    "\n",
    "        unified_model.eval()\n",
    "        epoch_val_loss = 0.0\n",
    "        val_batches = 0\n",
    "        print(\"features shape:\", features.shape)  # debug\n",
    "\n",
    "        with torch.no_grad():\n",
    "            for batch in tqdm(val_dataloader, desc=f\"Époque {epoch+1}/{num_epochs} (validation)\"):\n",
    "                features = batch[\"features\"].float().to(device)\n",
    "                labels = batch[\"labels\"].float().to(device)\n",
    "\n",
    "                outputs = unified_model(features)\n",
    "                loss = criterion(outputs, labels)\n",
    "                epoch_val_loss += loss.item()\n",
    "                val_batches += 1\n",
    "\n",
    "        epoch_val_loss /= val_batches\n",
    "        val_losses.append(epoch_val_loss)\n",
    "        scheduler.step(epoch_val_loss)\n",
    "\n",
    "        current_lr = optimizer.param_groups[0]['lr']\n",
    "        print(f\"Époque {epoch+1}/{num_epochs} - \"\n",
    "              f\"LR: {current_lr:.2e} | \"\n",
    "              f\"Train Loss: {epoch_train_loss:.6f} | \"\n",
    "              f\"Val Loss: {epoch_val_loss:.6f}\")\n",
    "\n",
    "    return unified_model, train_losses, val_losses\n",
    "\n"
   ],
   "id": "58fb220133d63b69",
   "outputs": [],
   "execution_count": 100
  },
  {
   "metadata": {
    "ExecuteTime": {
     "end_time": "2025-04-18T16:56:53.190284Z",
     "start_time": "2025-04-18T16:56:53.186590Z"
    }
   },
   "cell_type": "code",
   "source": [
    "# Fonction pour fine-tuner le modèle unifié (dégeler certaines couches)\n",
    "def fine_tune_unified_model(unified_model, train_dataloader, val_dataloader, \n",
    "                           num_epochs=5, learning_rate=5e-5, device=\"cuda\"):\n",
    "    \"\"\"\n",
    "    Fine-tune le modèle unifié en dégelant certaines couches des modèles pré-entraînés.\n",
    "    \n",
    "    Args:\n",
    "        unified_model: Le modèle unifié\n",
    "        train_dataloader: DataLoader pour les données d'entraînement\n",
    "        val_dataloader: DataLoader pour les données de validation\n",
    "        num_epochs: Nombre d'époques d'entraînement\n",
    "        learning_rate: Taux d'apprentissage\n",
    "        device: Appareil sur lequel effectuer l'entraînement ('cuda' ou 'cpu')\n",
    "    \n",
    "    Returns:\n",
    "        Le modèle fine-tuné et les historiques de perte\n",
    "    \"\"\"\n",
    "    # Dégeler les dernières couches des modèles pré-entraînés\n",
    "    for name, param in unified_model.transfer_model.named_parameters():\n",
    "        if \"layer\" in name and any(f\"layer.{i}\" in name for i in [10, 11]):  # Dégeler les 2 dernières couches\n",
    "            param.requires_grad = True\n",
    "    \n",
    "    for name, param in unified_model.insertion_model.named_parameters():\n",
    "        if \"layer\" in name and any(f\"layer.{i}\" in name for i in [10, 11]):  # Dégeler les 2 dernières couches\n",
    "            param.requires_grad = True\n",
    "    \n",
    "    # Entraîner le modèle avec les couches dégelées\n",
    "    return train_unified_model(unified_model, train_dataloader, val_dataloader, \n",
    "                              num_epochs=num_epochs, learning_rate=learning_rate, device=device)"
   ],
   "id": "257ee1e75587e26a",
   "outputs": [],
   "execution_count": 101
  },
  {
   "metadata": {
    "ExecuteTime": {
     "end_time": "2025-04-18T17:03:58.190551Z",
     "start_time": "2025-04-18T16:56:54.021898Z"
    }
   },
   "cell_type": "code",
   "source": [
    "from torch.utils.data import Dataset, DataLoader, random_split\n",
    "import torch\n",
    "import matplotlib.pyplot as plt\n",
    "import os\n",
    "\n",
    "# Dataset PyTorch à partir du champ input_vector\n",
    "class ALOHADataset(Dataset):\n",
    "    def __init__(self, hf_dataset):\n",
    "        self.dataset = hf_dataset\n",
    "\n",
    "    def __len__(self):\n",
    "        return len(self.dataset)\n",
    "\n",
    "    def __getitem__(self, idx):\n",
    "        input_vector = torch.tensor(self.dataset[idx][\"input_vector\"], dtype=torch.float32)\n",
    "        label = torch.tensor(self.dataset[idx][\"action\"], dtype=torch.float32)  # ou un autre champ si tu préfères\n",
    "        return {\n",
    "            \"features\": input_vector,\n",
    "            \"labels\": label\n",
    "        }\n",
    "\n",
    "# Fonction principale\n",
    "def main():\n",
    "    # Charger le dataset combiné avec les vecteurs à 101 dimensions\n",
    "    combined_dataset = load_and_prepare_datasets()\n",
    "\n",
    "    # Créer l'objet Dataset PyTorch\n",
    "    full_dataset = ALOHADataset(combined_dataset)\n",
    "    \n",
    "    # Split en train/val\n",
    "    train_size = int(0.8 * len(full_dataset))\n",
    "    val_size = len(full_dataset) - train_size\n",
    "    train_dataset, val_dataset = random_split(full_dataset, [train_size, val_size])\n",
    "\n",
    "    # 🔍 DEBUG : Afficher la forme des features d’un exemple\n",
    "    sample = train_dataset[0]\n",
    "    print(f\"Shape des features du premier exemple: {sample['features'].shape}\")\n",
    "\n",
    "    # Créer les dataloaders\n",
    "    train_dataloader = DataLoader(train_dataset, batch_size=32, shuffle=True, num_workers=0)\n",
    "    val_dataloader = DataLoader(val_dataset, batch_size=32, shuffle=False, num_workers=0)\n",
    "\n",
    "    # Charger les modèles pré-entraînés\n",
    "    transfer_model = load_act_model(\"/Users/louloute/PycharmProjects/INF8225_projet/Models/transfer/model.safetensors\")\n",
    "    insertion_model = load_act_model(\"/Users/louloute/PycharmProjects/INF8225_projet/Models/insertion/model.safetensors\")\n",
    "\n",
    "    # Créer le modèle unifié\n",
    "    unified_model = UnifiedALOHAModel(transfer_model, insertion_model)\n",
    "\n",
    "    # Déterminer l'appareil à utiliser\n",
    "    device = torch.device(\"cuda\" if torch.cuda.is_available() else \"cpu\")\n",
    "    print(f\"Utilisation de l'appareil: {device}\")\n",
    "\n",
    "    # Entraîner le modèle unifié\n",
    "    print(\"\\nEntraînement du modèle unifié...\")\n",
    "    unified_model, train_losses, val_losses = train_unified_model(\n",
    "        unified_model, train_dataloader, val_dataloader, \n",
    "        num_epochs=10, learning_rate=1e-4, device=device\n",
    "    )\n",
    "\n",
    "    # Fine-tuner le modèle unifié\n",
    "    print(\"\\nFine-tuning du modèle unifié...\")\n",
    "    unified_model, ft_train_losses, ft_val_losses = fine_tune_unified_model(\n",
    "        unified_model, train_dataloader, val_dataloader, \n",
    "        num_epochs=5, learning_rate=5e-5, device=device\n",
    "    )\n",
    "\n",
    "    # Tracer les courbes de perte\n",
    "    plt.figure(figsize=(12, 5))\n",
    "\n",
    "    plt.subplot(1, 2, 1)\n",
    "    plt.plot(train_losses, label='Train')\n",
    "    plt.plot(val_losses, label='Validation')\n",
    "    plt.title('Pertes pendant l\\'entraînement initial')\n",
    "    plt.xlabel('Époque')\n",
    "    plt.ylabel('Perte')\n",
    "    plt.legend()\n",
    "\n",
    "    plt.subplot(1, 2, 2)\n",
    "    plt.plot(ft_train_losses, label='Train')\n",
    "    plt.plot(ft_val_losses, label='Validation')\n",
    "    plt.title('Pertes pendant le fine-tuning')\n",
    "    plt.xlabel('Époque')\n",
    "    plt.ylabel('Perte')\n",
    "    plt.legend()\n",
    "\n",
    "    plt.tight_layout()\n",
    "    plt.savefig('training_losses.png')\n",
    "    plt.show()\n",
    "\n",
    "    # Sauvegarde\n",
    "    model_save_path = \"unified_aloha_model\"\n",
    "    os.makedirs(model_save_path, exist_ok=True)\n",
    "    torch.save(unified_model.state_dict(), os.path.join(model_save_path, \"unified_model.pt\"))\n",
    "    print(f\"Modèle unifié sauvegardé dans {model_save_path}\")\n",
    "\n",
    "if __name__ == \"__main__\":\n",
    "    main()"
   ],
   "id": "97555aec1a88b835",
   "outputs": [
    {
     "name": "stdout",
     "output_type": "stream",
     "text": [
      "Chargement des datasets...\n"
     ]
    },
    {
     "data": {
      "text/plain": [
       "Resolving data files:   0%|          | 0/50 [00:00<?, ?it/s]"
      ],
      "application/vnd.jupyter.widget-view+json": {
       "version_major": 2,
       "version_minor": 0,
       "model_id": "871058484faf4b118f04bad3bbc29f56"
      }
     },
     "metadata": {},
     "output_type": "display_data"
    },
    {
     "data": {
      "text/plain": [
       "Resolving data files:   0%|          | 0/50 [00:00<?, ?it/s]"
      ],
      "application/vnd.jupyter.widget-view+json": {
       "version_major": 2,
       "version_minor": 0,
       "model_id": "54bc090e406c40a2b1f5f8ebdc31566c"
      }
     },
     "metadata": {},
     "output_type": "display_data"
    },
    {
     "data": {
      "text/plain": [
       "Resolving data files:   0%|          | 0/50 [00:00<?, ?it/s]"
      ],
      "application/vnd.jupyter.widget-view+json": {
       "version_major": 2,
       "version_minor": 0,
       "model_id": "6bdf5edf4bae47ef83114d0e090f4220"
      }
     },
     "metadata": {},
     "output_type": "display_data"
    },
    {
     "data": {
      "text/plain": [
       "Resolving data files:   0%|          | 0/50 [00:00<?, ?it/s]"
      ],
      "application/vnd.jupyter.widget-view+json": {
       "version_major": 2,
       "version_minor": 0,
       "model_id": "147d91fb3c0f4a92bdadb6f3e3863f1a"
      }
     },
     "metadata": {},
     "output_type": "display_data"
    },
    {
     "name": "stdout",
     "output_type": "stream",
     "text": [
      "Prétraitement des datasets...\n",
      "Concaténation des datasets...\n",
      "Nombre total d'échantillons : 45000\n",
      "Exemple d'input_vector (shape) : torch.Size([101])\n",
      "Shape des features du premier exemple: torch.Size([101])\n",
      "Utilisation de l'appareil: cpu\n",
      "\n",
      "Entraînement du modèle unifié...\n"
     ]
    },
    {
     "name": "stderr",
     "output_type": "stream",
     "text": [
      "Époque 1/10 (entraînement): 100%|██████████| 1125/1125 [00:22<00:00, 49.59it/s]\n"
     ]
    },
    {
     "name": "stdout",
     "output_type": "stream",
     "text": [
      "features shape: torch.Size([32, 101])\n"
     ]
    },
    {
     "name": "stderr",
     "output_type": "stream",
     "text": [
      "Époque 1/10 (validation): 100%|██████████| 282/282 [00:04<00:00, 65.63it/s]\n"
     ]
    },
    {
     "name": "stdout",
     "output_type": "stream",
     "text": [
      "Époque 1/10 - LR: 1.00e-04 | Train Loss: 0.371158 | Val Loss: 0.220155\n"
     ]
    },
    {
     "name": "stderr",
     "output_type": "stream",
     "text": [
      "Époque 2/10 (entraînement): 100%|██████████| 1125/1125 [00:22<00:00, 49.58it/s]\n"
     ]
    },
    {
     "name": "stdout",
     "output_type": "stream",
     "text": [
      "features shape: torch.Size([32, 101])\n"
     ]
    },
    {
     "name": "stderr",
     "output_type": "stream",
     "text": [
      "Époque 2/10 (validation): 100%|██████████| 282/282 [00:04<00:00, 65.52it/s]\n"
     ]
    },
    {
     "name": "stdout",
     "output_type": "stream",
     "text": [
      "Époque 2/10 - LR: 1.00e-04 | Train Loss: 0.200435 | Val Loss: 0.111988\n"
     ]
    },
    {
     "name": "stderr",
     "output_type": "stream",
     "text": [
      "Époque 3/10 (entraînement): 100%|██████████| 1125/1125 [00:22<00:00, 49.72it/s]\n"
     ]
    },
    {
     "name": "stdout",
     "output_type": "stream",
     "text": [
      "features shape: torch.Size([32, 101])\n"
     ]
    },
    {
     "name": "stderr",
     "output_type": "stream",
     "text": [
      "Époque 3/10 (validation): 100%|██████████| 282/282 [00:04<00:00, 65.25it/s]\n"
     ]
    },
    {
     "name": "stdout",
     "output_type": "stream",
     "text": [
      "Époque 3/10 - LR: 1.00e-04 | Train Loss: 0.114258 | Val Loss: 0.060919\n"
     ]
    },
    {
     "name": "stderr",
     "output_type": "stream",
     "text": [
      "Époque 4/10 (entraînement): 100%|██████████| 1125/1125 [00:23<00:00, 47.96it/s]\n"
     ]
    },
    {
     "name": "stdout",
     "output_type": "stream",
     "text": [
      "features shape: torch.Size([32, 101])\n"
     ]
    },
    {
     "name": "stderr",
     "output_type": "stream",
     "text": [
      "Époque 4/10 (validation): 100%|██████████| 282/282 [00:04<00:00, 61.22it/s]\n"
     ]
    },
    {
     "name": "stdout",
     "output_type": "stream",
     "text": [
      "Époque 4/10 - LR: 1.00e-04 | Train Loss: 0.077594 | Val Loss: 0.044607\n"
     ]
    },
    {
     "name": "stderr",
     "output_type": "stream",
     "text": [
      "Époque 5/10 (entraînement): 100%|██████████| 1125/1125 [00:24<00:00, 46.67it/s]\n"
     ]
    },
    {
     "name": "stdout",
     "output_type": "stream",
     "text": [
      "features shape: torch.Size([32, 101])\n"
     ]
    },
    {
     "name": "stderr",
     "output_type": "stream",
     "text": [
      "Époque 5/10 (validation): 100%|██████████| 282/282 [00:04<00:00, 64.87it/s]\n"
     ]
    },
    {
     "name": "stdout",
     "output_type": "stream",
     "text": [
      "Époque 5/10 - LR: 1.00e-04 | Train Loss: 0.067010 | Val Loss: 0.041591\n"
     ]
    },
    {
     "name": "stderr",
     "output_type": "stream",
     "text": [
      "Époque 6/10 (entraînement): 100%|██████████| 1125/1125 [00:23<00:00, 47.43it/s]\n"
     ]
    },
    {
     "name": "stdout",
     "output_type": "stream",
     "text": [
      "features shape: torch.Size([32, 101])\n"
     ]
    },
    {
     "name": "stderr",
     "output_type": "stream",
     "text": [
      "Époque 6/10 (validation): 100%|██████████| 282/282 [00:04<00:00, 64.35it/s]\n"
     ]
    },
    {
     "name": "stdout",
     "output_type": "stream",
     "text": [
      "Époque 6/10 - LR: 1.00e-04 | Train Loss: 0.064476 | Val Loss: 0.039893\n"
     ]
    },
    {
     "name": "stderr",
     "output_type": "stream",
     "text": [
      "Époque 7/10 (entraînement): 100%|██████████| 1125/1125 [00:23<00:00, 47.30it/s]\n"
     ]
    },
    {
     "name": "stdout",
     "output_type": "stream",
     "text": [
      "features shape: torch.Size([32, 101])\n"
     ]
    },
    {
     "name": "stderr",
     "output_type": "stream",
     "text": [
      "Époque 7/10 (validation): 100%|██████████| 282/282 [00:04<00:00, 62.78it/s]\n"
     ]
    },
    {
     "name": "stdout",
     "output_type": "stream",
     "text": [
      "Époque 7/10 - LR: 1.00e-04 | Train Loss: 0.063504 | Val Loss: 0.038062\n"
     ]
    },
    {
     "name": "stderr",
     "output_type": "stream",
     "text": [
      "Époque 8/10 (entraînement): 100%|██████████| 1125/1125 [00:23<00:00, 47.49it/s]\n"
     ]
    },
    {
     "name": "stdout",
     "output_type": "stream",
     "text": [
      "features shape: torch.Size([32, 101])\n"
     ]
    },
    {
     "name": "stderr",
     "output_type": "stream",
     "text": [
      "Époque 8/10 (validation): 100%|██████████| 282/282 [00:04<00:00, 60.44it/s]\n"
     ]
    },
    {
     "name": "stdout",
     "output_type": "stream",
     "text": [
      "Époque 8/10 - LR: 1.00e-04 | Train Loss: 0.062821 | Val Loss: 0.037823\n"
     ]
    },
    {
     "name": "stderr",
     "output_type": "stream",
     "text": [
      "Époque 9/10 (entraînement): 100%|██████████| 1125/1125 [00:24<00:00, 45.78it/s]\n"
     ]
    },
    {
     "name": "stdout",
     "output_type": "stream",
     "text": [
      "features shape: torch.Size([32, 101])\n"
     ]
    },
    {
     "name": "stderr",
     "output_type": "stream",
     "text": [
      "Époque 9/10 (validation): 100%|██████████| 282/282 [00:04<00:00, 63.65it/s]\n"
     ]
    },
    {
     "name": "stdout",
     "output_type": "stream",
     "text": [
      "Époque 9/10 - LR: 1.00e-04 | Train Loss: 0.061907 | Val Loss: 0.036101\n"
     ]
    },
    {
     "name": "stderr",
     "output_type": "stream",
     "text": [
      "Époque 10/10 (entraînement): 100%|██████████| 1125/1125 [00:23<00:00, 47.75it/s]\n"
     ]
    },
    {
     "name": "stdout",
     "output_type": "stream",
     "text": [
      "features shape: torch.Size([32, 101])\n"
     ]
    },
    {
     "name": "stderr",
     "output_type": "stream",
     "text": [
      "Époque 10/10 (validation): 100%|██████████| 282/282 [00:04<00:00, 63.90it/s]\n"
     ]
    },
    {
     "name": "stdout",
     "output_type": "stream",
     "text": [
      "Époque 10/10 - LR: 1.00e-04 | Train Loss: 0.061273 | Val Loss: 0.035619\n",
      "\n",
      "Fine-tuning du modèle unifié...\n"
     ]
    },
    {
     "name": "stderr",
     "output_type": "stream",
     "text": [
      "Époque 1/5 (entraînement): 100%|██████████| 1125/1125 [00:24<00:00, 46.51it/s]\n"
     ]
    },
    {
     "name": "stdout",
     "output_type": "stream",
     "text": [
      "features shape: torch.Size([32, 101])\n"
     ]
    },
    {
     "name": "stderr",
     "output_type": "stream",
     "text": [
      "Époque 1/5 (validation): 100%|██████████| 282/282 [00:04<00:00, 60.99it/s]\n"
     ]
    },
    {
     "name": "stdout",
     "output_type": "stream",
     "text": [
      "Époque 1/5 - LR: 5.00e-05 | Train Loss: 0.060914 | Val Loss: 0.035148\n"
     ]
    },
    {
     "name": "stderr",
     "output_type": "stream",
     "text": [
      "Époque 2/5 (entraînement): 100%|██████████| 1125/1125 [00:23<00:00, 47.54it/s]\n"
     ]
    },
    {
     "name": "stdout",
     "output_type": "stream",
     "text": [
      "features shape: torch.Size([32, 101])\n"
     ]
    },
    {
     "name": "stderr",
     "output_type": "stream",
     "text": [
      "Époque 2/5 (validation): 100%|██████████| 282/282 [00:04<00:00, 63.14it/s]\n"
     ]
    },
    {
     "name": "stdout",
     "output_type": "stream",
     "text": [
      "Époque 2/5 - LR: 5.00e-05 | Train Loss: 0.060638 | Val Loss: 0.034986\n"
     ]
    },
    {
     "name": "stderr",
     "output_type": "stream",
     "text": [
      "Époque 3/5 (entraînement): 100%|██████████| 1125/1125 [00:23<00:00, 47.75it/s]\n"
     ]
    },
    {
     "name": "stdout",
     "output_type": "stream",
     "text": [
      "features shape: torch.Size([32, 101])\n"
     ]
    },
    {
     "name": "stderr",
     "output_type": "stream",
     "text": [
      "Époque 3/5 (validation): 100%|██████████| 282/282 [00:04<00:00, 61.32it/s]\n"
     ]
    },
    {
     "name": "stdout",
     "output_type": "stream",
     "text": [
      "Époque 3/5 - LR: 5.00e-05 | Train Loss: 0.060672 | Val Loss: 0.034408\n"
     ]
    },
    {
     "name": "stderr",
     "output_type": "stream",
     "text": [
      "Époque 4/5 (entraînement): 100%|██████████| 1125/1125 [00:23<00:00, 47.19it/s]\n"
     ]
    },
    {
     "name": "stdout",
     "output_type": "stream",
     "text": [
      "features shape: torch.Size([32, 101])\n"
     ]
    },
    {
     "name": "stderr",
     "output_type": "stream",
     "text": [
      "Époque 4/5 (validation): 100%|██████████| 282/282 [00:04<00:00, 63.29it/s]\n"
     ]
    },
    {
     "name": "stdout",
     "output_type": "stream",
     "text": [
      "Époque 4/5 - LR: 5.00e-05 | Train Loss: 0.060171 | Val Loss: 0.033930\n"
     ]
    },
    {
     "name": "stderr",
     "output_type": "stream",
     "text": [
      "Époque 5/5 (entraînement): 100%|██████████| 1125/1125 [00:23<00:00, 46.88it/s]\n"
     ]
    },
    {
     "name": "stdout",
     "output_type": "stream",
     "text": [
      "features shape: torch.Size([32, 101])\n"
     ]
    },
    {
     "name": "stderr",
     "output_type": "stream",
     "text": [
      "Époque 5/5 (validation): 100%|██████████| 282/282 [00:04<00:00, 63.53it/s]\n"
     ]
    },
    {
     "name": "stdout",
     "output_type": "stream",
     "text": [
      "Époque 5/5 - LR: 5.00e-05 | Train Loss: 0.059618 | Val Loss: 0.033401\n"
     ]
    },
    {
     "data": {
      "text/plain": [
       "<Figure size 1200x500 with 2 Axes>"
      ],
      "image/png": "[encoded data removed]"
     },
     "metadata": {},
     "output_type": "display_data"
    },
    {
     "name": "stdout",
     "output_type": "stream",
     "text": [
      "Modèle unifié sauvegardé dans unified_aloha_model\n"
     ]
    }
   ],
   "execution_count": 102
  },
  {
   "metadata": {},
   "cell_type": "code",
   "outputs": [],
   "execution_count": null,
   "source": "",
   "id": "5964618e80f3f192"
  }
 ],
 "metadata": {
  "kernelspec": {
   "display_name": "Python 3",
   "language": "python",
   "name": "python3"
  },
  "language_info": {
   "codemirror_mode": {
    "name": "ipython",
    "version": 2
   },
   "file_extension": ".py",
   "mimetype": "text/x-python",
   "name": "python",
   "nbconvert_exporter": "python",
   "pygments_lexer": "ipython2",
   "version": "2.7.6"
  }
 },
 "nbformat": 4,
 "nbformat_minor": 5
}
